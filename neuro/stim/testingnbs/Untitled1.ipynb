{
 "cells": [
  {
   "cell_type": "code",
   "execution_count": 1,
   "id": "19d9a198-c875-4d7c-821e-65618539e3f5",
   "metadata": {},
   "outputs": [],
   "source": [
    "import numpy as np\n",
    "import mne\n",
    "from mne.datasets import fetch_fsaverage"
   ]
  },
  {
   "cell_type": "code",
   "execution_count": 2,
   "id": "d256ec23-912b-499e-addb-377c9edda0e6",
   "metadata": {},
   "outputs": [
    {
     "name": "stdout",
     "output_type": "stream",
     "text": [
      "Using default location ~/mne_data for misc...\n",
      "Creating ~/mne_data\n",
      "Dataset misc version 0.0 out of date, latest version is 0.23\n"
     ]
    },
    {
     "name": "stderr",
     "output_type": "stream",
     "text": [
      "Downloading file 'mne-misc-data-0.23.tar.gz' from 'https://codeload.github.com/mne-tools/mne-misc-data/tar.gz/0.23' to '/home1/cameron.holman/mne_data'.\n",
      "0.00B [00:00, ?B/s]     \n",
      "Untarring contents of '/home1/cameron.holman/mne_data/mne-misc-data-0.23.tar.gz' to '/home1/cameron.holman/mne_data'\n"
     ]
    },
    {
     "name": "stdout",
     "output_type": "stream",
     "text": [
      "Attempting to create new mne-python configuration file:\n",
      "/home1/cameron.holman/.mne/mne-python.json\n",
      "Using default location ~/mne_data for sample...\n"
     ]
    },
    {
     "name": "stderr",
     "output_type": "stream",
     "text": [
      "Downloading file 'MNE-sample-data-processed.tar.gz' from 'https://osf.io/86qa2/download?version=6' to '/home1/cameron.holman/mne_data'.\n",
      "100%|█████████████████████████████████████| 1.65G/1.65G [00:00<00:00, 1.43TB/s]\n",
      "Untarring contents of '/home1/cameron.holman/mne_data/MNE-sample-data-processed.tar.gz' to '/home1/cameron.holman/mne_data'\n"
     ]
    },
    {
     "name": "stdout",
     "output_type": "stream",
     "text": [
      "16 files missing from root.txt in /home1/cameron.holman/mne_data/MNE-sample-data/subjects\n",
      "Downloading missing files remotely\n"
     ]
    },
    {
     "name": "stderr",
     "output_type": "stream",
     "text": [
      "Downloading data from 'https://osf.io/3bxqt/download?version=2' to file '/tmp/2923044.1.jupyter.q/tmpxhpwvwjy/temp.zip'.\n"
     ]
    },
    {
     "name": "stdout",
     "output_type": "stream",
     "text": [
      "Extracting missing files\n",
      "Successfully extracted 16 files\n",
      "10 files missing from bem.txt in /home1/cameron.holman/mne_data/MNE-sample-data/subjects/fsaverage\n",
      "Downloading missing files remotely\n"
     ]
    },
    {
     "name": "stderr",
     "output_type": "stream",
     "text": [
      "Downloading data from 'https://osf.io/7ve8g/download?version=4' to file '/tmp/2923044.1.jupyter.q/tmpaflg_ozl/temp.zip'.\n"
     ]
    },
    {
     "name": "stdout",
     "output_type": "stream",
     "text": [
      "Extracting missing files\n",
      "Successfully extracted 10 files\n"
     ]
    },
    {
     "data": {
      "text/plain": [
       "'/home1/cameron.holman/mne_data/MNE-sample-data/subjects/fsaverage'"
      ]
     },
     "execution_count": 2,
     "metadata": {},
     "output_type": "execute_result"
    }
   ],
   "source": [
    "# paths to mne datasets - sample sEEG and FreeSurfer's fsaverage subject\n",
    "# which is in MNI space\n",
    "misc_path = mne.datasets.misc.data_path()\n",
    "sample_path = mne.datasets.sample.data_path()\n",
    "subjects_dir = sample_path / 'subjects'\n",
    "\n",
    "# use mne-python's fsaverage data\n",
    "fetch_fsaverage(subjects_dir=subjects_dir, verbose=True)  # downloads if needed"
   ]
  },
  {
   "cell_type": "code",
   "execution_count": 3,
   "id": "9882177b-30d5-4ce4-80d8-05c23bcba2fd",
   "metadata": {},
   "outputs": [
    {
     "name": "stdout",
     "output_type": "stream",
     "text": [
      "Opening raw data file /home1/cameron.holman/mne_data/MNE-misc-data/seeg/sample_seeg_ieeg.fif...\n",
      "    Range : 1310640 ... 1370605 =   1311.411 ...  1371.411 secs\n",
      "Ready.\n"
     ]
    }
   ],
   "source": [
    "raw = mne.io.read_raw(misc_path / 'seeg' / 'sample_seeg_ieeg.fif')"
   ]
  },
  {
   "cell_type": "code",
   "execution_count": 4,
   "id": "31c81bc7-49f9-4a00-8884-f2ea850d62f6",
   "metadata": {},
   "outputs": [
    {
     "data": {
      "text/html": [
       "<table class=\"table table-hover table-striped table-sm table-responsive small\">\n",
       "    <tr>\n",
       "        <th>Measurement date</th>\n",
       "        \n",
       "        <td>October 18, 2019  11:09:44 GMT</td>\n",
       "        \n",
       "    </tr>\n",
       "    <tr>\n",
       "        <th>Experimenter</th>\n",
       "        \n",
       "        <td>Unknown</td>\n",
       "        \n",
       "    </tr>\n",
       "        <th>Participant</th>\n",
       "        \n",
       "            \n",
       "            <td>sub-1</td>\n",
       "            \n",
       "        \n",
       "    </tr>\n",
       "    <tr>\n",
       "        <th>Digitized points</th>\n",
       "        \n",
       "        <td>122 points</td>\n",
       "        \n",
       "    </tr>\n",
       "    <tr>\n",
       "        <th>Good channels</th>\n",
       "        <td>119 sEEG</td>\n",
       "    </tr>\n",
       "    <tr>\n",
       "        <th>Bad channels</th>\n",
       "        <td>None</td>\n",
       "    </tr>\n",
       "    <tr>\n",
       "        <th>EOG channels</th>\n",
       "        <td>Not available</td>\n",
       "    </tr>\n",
       "    <tr>\n",
       "        <th>ECG channels</th>\n",
       "        <td>Not available</td>\n",
       "    \n",
       "    <tr>\n",
       "        <th>Sampling frequency</th>\n",
       "        <td>999.41 Hz</td>\n",
       "    </tr>\n",
       "    \n",
       "    \n",
       "    <tr>\n",
       "        <th>Highpass</th>\n",
       "        <td>0.00 Hz</td>\n",
       "    </tr>\n",
       "    \n",
       "    \n",
       "    <tr>\n",
       "        <th>Lowpass</th>\n",
       "        <td>499.71 Hz</td>\n",
       "    </tr>\n",
       "    \n",
       "    \n",
       "    \n",
       "    <tr>\n",
       "        <th>Filenames</th>\n",
       "        <td>sample_seeg_ieeg.fif</td>\n",
       "    </tr>\n",
       "    \n",
       "    <tr>\n",
       "        <th>Duration</th>\n",
       "        <td>00:01:00 (HH:MM:SS)</td>\n",
       "    </tr>\n",
       "</table>"
      ],
      "text/plain": [
       "<Raw | sample_seeg_ieeg.fif, 119 x 59966 (60.0 s), ~171 kB, data not loaded>"
      ]
     },
     "execution_count": 4,
     "metadata": {},
     "output_type": "execute_result"
    }
   ],
   "source": [
    "raw"
   ]
  },
  {
   "cell_type": "code",
   "execution_count": 15,
   "id": "210da5c9-df7a-4bcd-bf3b-d478a8a0c34e",
   "metadata": {},
   "outputs": [
    {
     "data": {
      "text/plain": [
       "['__class__',\n",
       " '__contains__',\n",
       " '__deepcopy__',\n",
       " '__delattr__',\n",
       " '__delitem__',\n",
       " '__dict__',\n",
       " '__dir__',\n",
       " '__doc__',\n",
       " '__eq__',\n",
       " '__format__',\n",
       " '__ge__',\n",
       " '__getattribute__',\n",
       " '__getitem__',\n",
       " '__gt__',\n",
       " '__hash__',\n",
       " '__init__',\n",
       " '__init_subclass__',\n",
       " '__iter__',\n",
       " '__le__',\n",
       " '__len__',\n",
       " '__lt__',\n",
       " '__module__',\n",
       " '__ne__',\n",
       " '__new__',\n",
       " '__reduce__',\n",
       " '__reduce_ex__',\n",
       " '__repr__',\n",
       " '__setattr__',\n",
       " '__setitem__',\n",
       " '__sizeof__',\n",
       " '__str__',\n",
       " '__subclasshook__',\n",
       " '__weakref__',\n",
       " 'clear',\n",
       " 'copy',\n",
       " 'fromkeys',\n",
       " 'get',\n",
       " 'items',\n",
       " 'keys',\n",
       " 'pop',\n",
       " 'popitem',\n",
       " 'setdefault',\n",
       " 'update',\n",
       " 'values']"
      ]
     },
     "execution_count": 15,
     "metadata": {},
     "output_type": "execute_result"
    }
   ],
   "source": [
    "point = raw.info['dig'][5]\n",
    "dir(point)"
   ]
  },
  {
   "cell_type": "code",
   "execution_count": 16,
   "id": "caf4c0c6-61fd-48db-bd1b-a2ab462fb19c",
   "metadata": {},
   "outputs": [
    {
     "data": {
      "text/plain": [
       "\u001b[0;31mType:\u001b[0m        DigPoint\n",
       "\u001b[0;31mString form:\u001b[0m <DigPoint |     EEG #3 : (-30.6, 37.6, -8.8) mm    : head frame>\n",
       "\u001b[0;31mLength:\u001b[0m      4\n",
       "\u001b[0;31mFile:\u001b[0m        ~/anaconda3/envs/sql1/lib/python3.7/site-packages/mne/io/_digitization.py\n",
       "\u001b[0;31mDocstring:\u001b[0m  \n",
       "Container for a digitization point.\n",
       "\n",
       "This is a simple subclass of the standard dict type designed to provide\n",
       "a readable string representation.\n",
       "\n",
       "Parameters\n",
       "----------\n",
       "kind : int\n",
       "    The kind of channel,\n",
       "    e.g. ``FIFFV_POINT_EEG``, ``FIFFV_POINT_CARDINAL``.\n",
       "r : array, shape (3,)\n",
       "    3D position in m. and coord_frame.\n",
       "ident : int\n",
       "    Number specifying the identity of the point.\n",
       "    e.g.  ``FIFFV_POINT_NASION`` if kind is ``FIFFV_POINT_CARDINAL``,\n",
       "    or 42 if kind is ``FIFFV_POINT_EEG``.\n",
       "coord_frame : int\n",
       "    The coordinate frame used, e.g. ``FIFFV_COORD_HEAD``.\n"
      ]
     },
     "metadata": {},
     "output_type": "display_data"
    }
   ],
   "source": [
    "point?"
   ]
  },
  {
   "cell_type": "code",
   "execution_count": 18,
   "id": "02896f0b-02e3-428c-a85b-50076134936b",
   "metadata": {},
   "outputs": [
    {
     "data": {
      "text/plain": [
       "<function DigPoint.items>"
      ]
     },
     "execution_count": 18,
     "metadata": {},
     "output_type": "execute_result"
    }
   ],
   "source": [
    "point.items"
   ]
  },
  {
   "cell_type": "code",
   "execution_count": 13,
   "id": "1d5154c3-d080-4f47-b99a-75b1db4e6dd6",
   "metadata": {},
   "outputs": [
    {
     "data": {
      "text/plain": [
       "mne.io._digitization.DigPoint"
      ]
     },
     "execution_count": 13,
     "metadata": {},
     "output_type": "execute_result"
    }
   ],
   "source": [
    "type(raw.info['dig'][5])"
   ]
  },
  {
   "cell_type": "code",
   "execution_count": 6,
   "id": "f2ddadfe-4440-45b0-b1a0-f7a0b4e82e40",
   "metadata": {},
   "outputs": [
    {
     "data": {
      "text/plain": [
       "{'preload': False,\n",
       " '_last_samps': array([1370605]),\n",
       " '_first_samps': array([1310640]),\n",
       " 'info': <Info | 11 non-empty values\n",
       "  bads: []\n",
       "  ch_names: LENT 1, LENT 2, LENT 3, LENT 4, LENT 5, LENT 6, LENT 7, LAMY 1, ...\n",
       "  chs: 119 sEEG\n",
       "  custom_ref_applied: False\n",
       "  dig: 122 items (3 Cardinal, 119 EEG)\n",
       "  file_id: 4 items (dict)\n",
       "  highpass: 0.0 Hz\n",
       "  lowpass: 499.7 Hz\n",
       "  meas_date: 2019-10-18 11:09:44 UTC\n",
       "  meas_id: 4 items (dict)\n",
       "  nchan: 119\n",
       "  projs: []\n",
       "  sfreq: 999.4 Hz\n",
       "  subject_info: 3 items (dict)\n",
       " >,\n",
       " 'buffer_size_sec': 1.0005882364436904,\n",
       " '_cals': array([1., 1., 1., 1., 1., 1., 1., 1., 1., 1., 1., 1., 1., 1., 1., 1., 1.,\n",
       "        1., 1., 1., 1., 1., 1., 1., 1., 1., 1., 1., 1., 1., 1., 1., 1., 1.,\n",
       "        1., 1., 1., 1., 1., 1., 1., 1., 1., 1., 1., 1., 1., 1., 1., 1., 1.,\n",
       "        1., 1., 1., 1., 1., 1., 1., 1., 1., 1., 1., 1., 1., 1., 1., 1., 1.,\n",
       "        1., 1., 1., 1., 1., 1., 1., 1., 1., 1., 1., 1., 1., 1., 1., 1., 1.,\n",
       "        1., 1., 1., 1., 1., 1., 1., 1., 1., 1., 1., 1., 1., 1., 1., 1., 1.,\n",
       "        1., 1., 1., 1., 1., 1., 1., 1., 1., 1., 1., 1., 1., 1., 1., 1., 1.]),\n",
       " '_raw_extras': [{'ent': [<Tag | kind 300 - type 4 - size 476000 - next 0 - pos 19044 - data None>,\n",
       "    <Tag | kind 300 - type 4 - size 476000 - next 0 - pos 495060 - data None>,\n",
       "    <Tag | kind 300 - type 4 - size 476000 - next 0 - pos 971076 - data None>,\n",
       "    <Tag | kind 300 - type 4 - size 476000 - next 0 - pos 1447092 - data None>,\n",
       "    <Tag | kind 300 - type 4 - size 476000 - next 0 - pos 1923108 - data None>,\n",
       "    <Tag | kind 300 - type 4 - size 476000 - next 0 - pos 2399124 - data None>,\n",
       "    <Tag | kind 300 - type 4 - size 476000 - next 0 - pos 2875140 - data None>,\n",
       "    <Tag | kind 300 - type 4 - size 476000 - next 0 - pos 3351156 - data None>,\n",
       "    <Tag | kind 300 - type 4 - size 476000 - next 0 - pos 3827172 - data None>,\n",
       "    <Tag | kind 300 - type 4 - size 476000 - next 0 - pos 4303188 - data None>,\n",
       "    <Tag | kind 300 - type 4 - size 476000 - next 0 - pos 4779204 - data None>,\n",
       "    <Tag | kind 300 - type 4 - size 476000 - next 0 - pos 5255220 - data None>,\n",
       "    <Tag | kind 300 - type 4 - size 476000 - next 0 - pos 5731236 - data None>,\n",
       "    <Tag | kind 300 - type 4 - size 476000 - next 0 - pos 6207252 - data None>,\n",
       "    <Tag | kind 300 - type 4 - size 476000 - next 0 - pos 6683268 - data None>,\n",
       "    <Tag | kind 300 - type 4 - size 476000 - next 0 - pos 7159284 - data None>,\n",
       "    <Tag | kind 300 - type 4 - size 476000 - next 0 - pos 7635300 - data None>,\n",
       "    <Tag | kind 300 - type 4 - size 476000 - next 0 - pos 8111316 - data None>,\n",
       "    <Tag | kind 300 - type 4 - size 476000 - next 0 - pos 8587332 - data None>,\n",
       "    <Tag | kind 300 - type 4 - size 476000 - next 0 - pos 9063348 - data None>,\n",
       "    <Tag | kind 300 - type 4 - size 476000 - next 0 - pos 9539364 - data None>,\n",
       "    <Tag | kind 300 - type 4 - size 476000 - next 0 - pos 10015380 - data None>,\n",
       "    <Tag | kind 300 - type 4 - size 476000 - next 0 - pos 10491396 - data None>,\n",
       "    <Tag | kind 300 - type 4 - size 476000 - next 0 - pos 10967412 - data None>,\n",
       "    <Tag | kind 300 - type 4 - size 476000 - next 0 - pos 11443428 - data None>,\n",
       "    <Tag | kind 300 - type 4 - size 476000 - next 0 - pos 11919444 - data None>,\n",
       "    <Tag | kind 300 - type 4 - size 476000 - next 0 - pos 12395460 - data None>,\n",
       "    <Tag | kind 300 - type 4 - size 476000 - next 0 - pos 12871476 - data None>,\n",
       "    <Tag | kind 300 - type 4 - size 476000 - next 0 - pos 13347492 - data None>,\n",
       "    <Tag | kind 300 - type 4 - size 476000 - next 0 - pos 13823508 - data None>,\n",
       "    <Tag | kind 300 - type 4 - size 476000 - next 0 - pos 14299524 - data None>,\n",
       "    <Tag | kind 300 - type 4 - size 476000 - next 0 - pos 14775540 - data None>,\n",
       "    <Tag | kind 300 - type 4 - size 476000 - next 0 - pos 15251556 - data None>,\n",
       "    <Tag | kind 300 - type 4 - size 476000 - next 0 - pos 15727572 - data None>,\n",
       "    <Tag | kind 300 - type 4 - size 476000 - next 0 - pos 16203588 - data None>,\n",
       "    <Tag | kind 300 - type 4 - size 476000 - next 0 - pos 16679604 - data None>,\n",
       "    <Tag | kind 300 - type 4 - size 476000 - next 0 - pos 17155620 - data None>,\n",
       "    <Tag | kind 300 - type 4 - size 476000 - next 0 - pos 17631636 - data None>,\n",
       "    <Tag | kind 300 - type 4 - size 476000 - next 0 - pos 18107652 - data None>,\n",
       "    <Tag | kind 300 - type 4 - size 476000 - next 0 - pos 18583668 - data None>,\n",
       "    <Tag | kind 300 - type 4 - size 476000 - next 0 - pos 19059684 - data None>,\n",
       "    <Tag | kind 300 - type 4 - size 476000 - next 0 - pos 19535700 - data None>,\n",
       "    <Tag | kind 300 - type 4 - size 476000 - next 0 - pos 20011716 - data None>,\n",
       "    <Tag | kind 300 - type 4 - size 476000 - next 0 - pos 20487732 - data None>,\n",
       "    <Tag | kind 300 - type 4 - size 476000 - next 0 - pos 20963748 - data None>,\n",
       "    <Tag | kind 300 - type 4 - size 476000 - next 0 - pos 21439764 - data None>,\n",
       "    <Tag | kind 300 - type 4 - size 476000 - next 0 - pos 21915780 - data None>,\n",
       "    <Tag | kind 300 - type 4 - size 476000 - next 0 - pos 22391796 - data None>,\n",
       "    <Tag | kind 300 - type 4 - size 476000 - next 0 - pos 22867812 - data None>,\n",
       "    <Tag | kind 300 - type 4 - size 476000 - next 0 - pos 23343828 - data None>,\n",
       "    <Tag | kind 300 - type 4 - size 476000 - next 0 - pos 23819844 - data None>,\n",
       "    <Tag | kind 300 - type 4 - size 476000 - next 0 - pos 24295860 - data None>,\n",
       "    <Tag | kind 300 - type 4 - size 476000 - next 0 - pos 24771876 - data None>,\n",
       "    <Tag | kind 300 - type 4 - size 476000 - next 0 - pos 25247892 - data None>,\n",
       "    <Tag | kind 300 - type 4 - size 476000 - next 0 - pos 25723908 - data None>,\n",
       "    <Tag | kind 300 - type 4 - size 476000 - next 0 - pos 26199924 - data None>,\n",
       "    <Tag | kind 300 - type 4 - size 476000 - next 0 - pos 26675940 - data None>,\n",
       "    <Tag | kind 300 - type 4 - size 476000 - next 0 - pos 27151956 - data None>,\n",
       "    <Tag | kind 300 - type 4 - size 476000 - next 0 - pos 27627972 - data None>,\n",
       "    <Tag | kind 300 - type 4 - size 459816 - next 0 - pos 28103988 - data None>],\n",
       "   'bounds': array([1310640, 1311640, 1312640, 1313640, 1314640, 1315640, 1316640,\n",
       "          1317640, 1318640, 1319640, 1320640, 1321640, 1322640, 1323640,\n",
       "          1324640, 1325640, 1326640, 1327640, 1328640, 1329640, 1330640,\n",
       "          1331640, 1332640, 1333640, 1334640, 1335640, 1336640, 1337640,\n",
       "          1338640, 1339640, 1340640, 1341640, 1342640, 1343640, 1344640,\n",
       "          1345640, 1346640, 1347640, 1348640, 1349640, 1350640, 1351640,\n",
       "          1352640, 1353640, 1354640, 1355640, 1356640, 1357640, 1358640,\n",
       "          1359640, 1360640, 1361640, 1362640, 1363640, 1364640, 1365640,\n",
       "          1366640, 1367640, 1368640, 1369640, 1370606]),\n",
       "   'orig_nchan': 119}],\n",
       " '_read_picks': [array([  0,   1,   2,   3,   4,   5,   6,   7,   8,   9,  10,  11,  12,\n",
       "          13,  14,  15,  16,  17,  18,  19,  20,  21,  22,  23,  24,  25,\n",
       "          26,  27,  28,  29,  30,  31,  32,  33,  34,  35,  36,  37,  38,\n",
       "          39,  40,  41,  42,  43,  44,  45,  46,  47,  48,  49,  50,  51,\n",
       "          52,  53,  54,  55,  56,  57,  58,  59,  60,  61,  62,  63,  64,\n",
       "          65,  66,  67,  68,  69,  70,  71,  72,  73,  74,  75,  76,  77,\n",
       "          78,  79,  80,  81,  82,  83,  84,  85,  86,  87,  88,  89,  90,\n",
       "          91,  92,  93,  94,  95,  96,  97,  98,  99, 100, 101, 102, 103,\n",
       "         104, 105, 106, 107, 108, 109, 110, 111, 112, 113, 114, 115, 116,\n",
       "         117, 118])],\n",
       " '_read_comp_grade': None,\n",
       " '_comp': None,\n",
       " '_filenames': ['/home1/cameron.holman/mne_data/MNE-misc-data/seeg/sample_seeg_ieeg.fif'],\n",
       " 'orig_format': 'single',\n",
       " '_orig_units': None,\n",
       " '_projectors': [],\n",
       " '_projector': None,\n",
       " '_dtype_': None,\n",
       " '_annotations': <Annotations | 32 segments: Fixation (8), Go Cue (8), ISI Onset (8), ...>,\n",
       " '_cropped_samp': 1310640,\n",
       " '_init_kwargs': {'fname': MNEPosixPath('/home1/cameron.holman/mne_data/MNE-misc-data/seeg/sample_seeg_ieeg.fif'),\n",
       "  'allow_maxshield': False,\n",
       "  'preload': False,\n",
       "  'on_split_missing': 'raise',\n",
       "  'verbose': None}}"
      ]
     },
     "execution_count": 6,
     "metadata": {},
     "output_type": "execute_result"
    }
   ],
   "source": [
    "vars(raw)"
   ]
  },
  {
   "cell_type": "code",
   "execution_count": null,
   "id": "e25a600e-fb13-4014-8ac3-b1c56c207e59",
   "metadata": {},
   "outputs": [],
   "source": []
  }
 ],
 "metadata": {
  "kernelspec": {
   "display_name": "sql1-k",
   "language": "python",
   "name": "sql1"
  },
  "language_info": {
   "codemirror_mode": {
    "name": "ipython",
    "version": 3
   },
   "file_extension": ".py",
   "mimetype": "text/x-python",
   "name": "python",
   "nbconvert_exporter": "python",
   "pygments_lexer": "ipython3",
   "version": "3.7.13"
  }
 },
 "nbformat": 4,
 "nbformat_minor": 5
}
