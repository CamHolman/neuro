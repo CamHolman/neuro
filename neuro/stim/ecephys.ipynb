{
 "cells": [
  {
   "cell_type": "code",
   "execution_count": 1,
   "metadata": {
    "collapsed": false,
    "jupyter": {
     "outputs_hidden": false
    }
   },
   "outputs": [],
   "source": [
    "%matplotlib inline"
   ]
  },
  {
   "cell_type": "markdown",
   "metadata": {},
   "source": [
    "\n",
    "\n",
    "# Extracellular Electrophysiology Data\n",
    "\n",
    "The following tutorial describes storage of extracellular electrophysiology data in NWB.\n",
    "The workflow demonstrated here involves four main steps:\n",
    "\n",
    "1. Create the electrodes table\n",
    "2. Add acquired raw voltage data\n",
    "3. Add LFP data\n",
    "4. Add spike data\n",
    "\n",
    "\n",
    "This tutorial assumes that transforming data between these states is done by users--PyNWB does not provide\n",
    "analysis functionality. It is recommended to cover `basics` before this tutorial.\n",
    "\n",
    "The following examples will reference variables that may not be defined within the block they are used in. For\n",
    "clarity, we define them here:\n"
   ]
  },
  {
   "cell_type": "code",
   "execution_count": 2,
   "metadata": {
    "collapsed": false,
    "jupyter": {
     "outputs_hidden": false
    }
   },
   "outputs": [],
   "source": [
    "from datetime import datetime\n",
    "from dateutil.tz import tzlocal\n",
    "\n",
    "import numpy as np\n",
    "from pynwb import NWBFile, NWBHDF5IO\n",
    "from pynwb.ecephys import ElectricalSeries, LFP"
   ]
  },
  {
   "cell_type": "markdown",
   "metadata": {},
   "source": [
    "## Creating and Writing NWB files\n",
    "\n",
    "When creating a NWB file, the first step is to create the :py:class:`~pynwb.file.NWBFile`.\n",
    "\n"
   ]
  },
  {
   "cell_type": "code",
   "execution_count": 3,
   "metadata": {
    "collapsed": false,
    "jupyter": {
     "outputs_hidden": false
    }
   },
   "outputs": [],
   "source": [
    "nwbfile = NWBFile(\n",
    "    session_description=\"my first synthetic recording\",\n",
    "    identifier=\"EXAMPLE_ID\",\n",
    "    session_start_time=datetime.now(tzlocal()),\n",
    "    experimenter=\"Dr. Bilbo Baggins\",\n",
    "    lab=\"Bag End Laboratory\",\n",
    "    institution=\"University of Middle Earth at the Shire\",\n",
    "    experiment_description=\"I went on an adventure with thirteen dwarves \"\n",
    "    \"to reclaim vast treasures.\",\n",
    "    session_id=\"LONELYMTN\",\n",
    ")"
   ]
  },
  {
   "cell_type": "markdown",
   "metadata": {},
   "source": [
    "## Electrodes Table\n",
    "\n",
    "In order to store extracellular electrophysiology data, you first must create an electrodes table\n",
    "describing the electrodes that generated this data. Extracellular electrodes are stored in an\n",
    "``\"electrodes\"`` table, which is a :py:class:`~hdmf.common.table.DynamicTable`.\n",
    "\n",
    ".. only:: html\n",
    "\n",
    "  .. image:: ../../_static/Electrodes.svg\n",
    "    :width: 500\n",
    "    :alt: electrodes table UML diagram\n",
    "    :align: center\n",
    "\n",
    ".. only:: latex\n",
    "\n",
    "  .. image:: ../../_static/Electrodes.png\n",
    "    :width: 500\n",
    "    :alt: electrodes table UML diagram\n",
    "    :align: center\n",
    "\n",
    "Before creating an :py:class:`~pynwb.ecephys.ElectrodeGroup`, you need to provide some information about the\n",
    "device that was used to record from the electrode. This is done by creating a :py:class:`~pynwb.device.Device`\n",
    "object using the instance method :py:meth:`~pynwb.file.NWBFile.create_device`.\n",
    "\n"
   ]
  },
  {
   "cell_type": "code",
   "execution_count": 4,
   "metadata": {
    "collapsed": false,
    "jupyter": {
     "outputs_hidden": false
    }
   },
   "outputs": [],
   "source": [
    "device = nwbfile.create_device(\n",
    "    name=\"array\", description=\"the best array\", manufacturer=\"Probe Company 9000\"\n",
    ")"
   ]
  },
  {
   "cell_type": "markdown",
   "metadata": {},
   "source": [
    "Once you have created the :py:class:`~pynwb.device.Device`, you can create an\n",
    ":py:class:`~pynwb.ecephys.ElectrodeGroup`. Then you can add electrodes one-at-a-time with\n",
    ":py:meth:`~pynwb.file.NWBFile.add_electrode`. :py:meth:`~pynwb.file.NWBFile.add_electrode` has two required arguments,\n",
    "``group``, which takes an :py:class:`~pynwb.ecephys.ElectrodeGroup`, and ``location``, which takes a string. It also\n",
    "has a number of optional metadata fields for electrode features (e.g, ``x``, ``y``, ``z``, ``imp``,\n",
    "and ``filtering``). Since this table is a :py:class:`~hdmf.common.table.DynamicTable`, we can add\n",
    "additional user-specified metadata fields as well. We will be adding a ``\"label\"`` column to the table. Use the\n",
    "following code to add electrodes for an array with 4 shanks and 3 channels per shank.\n",
    "\n"
   ]
  },
  {
   "cell_type": "code",
   "execution_count": 5,
   "metadata": {
    "collapsed": false,
    "jupyter": {
     "outputs_hidden": false
    }
   },
   "outputs": [],
   "source": [
    "nwbfile.add_electrode_column(name=\"label\", description=\"label of electrode\")\n",
    "\n",
    "nshanks = 4\n",
    "nchannels_per_shank = 3\n",
    "electrode_counter = 0\n",
    "\n",
    "for ishank in range(nshanks):\n",
    "    # create an electrode group for this shank\n",
    "    electrode_group = nwbfile.create_electrode_group(\n",
    "        name=\"shank{}\".format(ishank),\n",
    "        description=\"electrode group for shank {}\".format(ishank),\n",
    "        device=device,\n",
    "        location=\"brain area\",\n",
    "    )\n",
    "    # add electrodes to the electrode table\n",
    "    for ielec in range(nchannels_per_shank):\n",
    "        nwbfile.add_electrode(\n",
    "            group=electrode_group,\n",
    "            label=\"shank{}elec{}\".format(ishank, ielec),\n",
    "            location=\"brain area\",\n",
    "        )\n",
    "        electrode_counter += 1"
   ]
  },
  {
   "cell_type": "markdown",
   "metadata": {},
   "source": [
    "Similarly to the ``trials`` table, we can view the ``electrodes`` table in tabular form\n",
    "by converting it to a pandas :py:class:`~pandas.DataFrame`.\n",
    "\n"
   ]
  },
  {
   "cell_type": "code",
   "execution_count": 7,
   "metadata": {
    "collapsed": false,
    "jupyter": {
     "outputs_hidden": false
    }
   },
   "outputs": [
    {
     "data": {
      "text/html": [
       "<div>\n",
       "<style scoped>\n",
       "    .dataframe tbody tr th:only-of-type {\n",
       "        vertical-align: middle;\n",
       "    }\n",
       "\n",
       "    .dataframe tbody tr th {\n",
       "        vertical-align: top;\n",
       "    }\n",
       "\n",
       "    .dataframe thead th {\n",
       "        text-align: right;\n",
       "    }\n",
       "</style>\n",
       "<table border=\"1\" class=\"dataframe\">\n",
       "  <thead>\n",
       "    <tr style=\"text-align: right;\">\n",
       "      <th></th>\n",
       "      <th>location</th>\n",
       "      <th>group</th>\n",
       "      <th>group_name</th>\n",
       "      <th>label</th>\n",
       "    </tr>\n",
       "    <tr>\n",
       "      <th>id</th>\n",
       "      <th></th>\n",
       "      <th></th>\n",
       "      <th></th>\n",
       "      <th></th>\n",
       "    </tr>\n",
       "  </thead>\n",
       "  <tbody>\n",
       "    <tr>\n",
       "      <th>0</th>\n",
       "      <td>brain area</td>\n",
       "      <td>shank0 pynwb.ecephys.ElectrodeGroup at 0x13982...</td>\n",
       "      <td>shank0</td>\n",
       "      <td>shank0elec0</td>\n",
       "    </tr>\n",
       "    <tr>\n",
       "      <th>1</th>\n",
       "      <td>brain area</td>\n",
       "      <td>shank0 pynwb.ecephys.ElectrodeGroup at 0x13982...</td>\n",
       "      <td>shank0</td>\n",
       "      <td>shank0elec1</td>\n",
       "    </tr>\n",
       "    <tr>\n",
       "      <th>2</th>\n",
       "      <td>brain area</td>\n",
       "      <td>shank0 pynwb.ecephys.ElectrodeGroup at 0x13982...</td>\n",
       "      <td>shank0</td>\n",
       "      <td>shank0elec2</td>\n",
       "    </tr>\n",
       "    <tr>\n",
       "      <th>3</th>\n",
       "      <td>brain area</td>\n",
       "      <td>shank1 pynwb.ecephys.ElectrodeGroup at 0x13982...</td>\n",
       "      <td>shank1</td>\n",
       "      <td>shank1elec0</td>\n",
       "    </tr>\n",
       "    <tr>\n",
       "      <th>4</th>\n",
       "      <td>brain area</td>\n",
       "      <td>shank1 pynwb.ecephys.ElectrodeGroup at 0x13982...</td>\n",
       "      <td>shank1</td>\n",
       "      <td>shank1elec1</td>\n",
       "    </tr>\n",
       "    <tr>\n",
       "      <th>5</th>\n",
       "      <td>brain area</td>\n",
       "      <td>shank1 pynwb.ecephys.ElectrodeGroup at 0x13982...</td>\n",
       "      <td>shank1</td>\n",
       "      <td>shank1elec2</td>\n",
       "    </tr>\n",
       "    <tr>\n",
       "      <th>6</th>\n",
       "      <td>brain area</td>\n",
       "      <td>shank2 pynwb.ecephys.ElectrodeGroup at 0x13982...</td>\n",
       "      <td>shank2</td>\n",
       "      <td>shank2elec0</td>\n",
       "    </tr>\n",
       "    <tr>\n",
       "      <th>7</th>\n",
       "      <td>brain area</td>\n",
       "      <td>shank2 pynwb.ecephys.ElectrodeGroup at 0x13982...</td>\n",
       "      <td>shank2</td>\n",
       "      <td>shank2elec1</td>\n",
       "    </tr>\n",
       "    <tr>\n",
       "      <th>8</th>\n",
       "      <td>brain area</td>\n",
       "      <td>shank2 pynwb.ecephys.ElectrodeGroup at 0x13982...</td>\n",
       "      <td>shank2</td>\n",
       "      <td>shank2elec2</td>\n",
       "    </tr>\n",
       "    <tr>\n",
       "      <th>9</th>\n",
       "      <td>brain area</td>\n",
       "      <td>shank3 pynwb.ecephys.ElectrodeGroup at 0x13982...</td>\n",
       "      <td>shank3</td>\n",
       "      <td>shank3elec0</td>\n",
       "    </tr>\n",
       "    <tr>\n",
       "      <th>10</th>\n",
       "      <td>brain area</td>\n",
       "      <td>shank3 pynwb.ecephys.ElectrodeGroup at 0x13982...</td>\n",
       "      <td>shank3</td>\n",
       "      <td>shank3elec1</td>\n",
       "    </tr>\n",
       "    <tr>\n",
       "      <th>11</th>\n",
       "      <td>brain area</td>\n",
       "      <td>shank3 pynwb.ecephys.ElectrodeGroup at 0x13982...</td>\n",
       "      <td>shank3</td>\n",
       "      <td>shank3elec2</td>\n",
       "    </tr>\n",
       "  </tbody>\n",
       "</table>\n",
       "</div>"
      ],
      "text/plain": [
       "      location                                              group group_name  \\\n",
       "id                                                                             \n",
       "0   brain area  shank0 pynwb.ecephys.ElectrodeGroup at 0x13982...     shank0   \n",
       "1   brain area  shank0 pynwb.ecephys.ElectrodeGroup at 0x13982...     shank0   \n",
       "2   brain area  shank0 pynwb.ecephys.ElectrodeGroup at 0x13982...     shank0   \n",
       "3   brain area  shank1 pynwb.ecephys.ElectrodeGroup at 0x13982...     shank1   \n",
       "4   brain area  shank1 pynwb.ecephys.ElectrodeGroup at 0x13982...     shank1   \n",
       "5   brain area  shank1 pynwb.ecephys.ElectrodeGroup at 0x13982...     shank1   \n",
       "6   brain area  shank2 pynwb.ecephys.ElectrodeGroup at 0x13982...     shank2   \n",
       "7   brain area  shank2 pynwb.ecephys.ElectrodeGroup at 0x13982...     shank2   \n",
       "8   brain area  shank2 pynwb.ecephys.ElectrodeGroup at 0x13982...     shank2   \n",
       "9   brain area  shank3 pynwb.ecephys.ElectrodeGroup at 0x13982...     shank3   \n",
       "10  brain area  shank3 pynwb.ecephys.ElectrodeGroup at 0x13982...     shank3   \n",
       "11  brain area  shank3 pynwb.ecephys.ElectrodeGroup at 0x13982...     shank3   \n",
       "\n",
       "          label  \n",
       "id               \n",
       "0   shank0elec0  \n",
       "1   shank0elec1  \n",
       "2   shank0elec2  \n",
       "3   shank1elec0  \n",
       "4   shank1elec1  \n",
       "5   shank1elec2  \n",
       "6   shank2elec0  \n",
       "7   shank2elec1  \n",
       "8   shank2elec2  \n",
       "9   shank3elec0  \n",
       "10  shank3elec1  \n",
       "11  shank3elec2  "
      ]
     },
     "execution_count": 7,
     "metadata": {},
     "output_type": "execute_result"
    }
   ],
   "source": [
    "nwbfile.electrodes.to_dataframe()"
   ]
  },
  {
   "cell_type": "markdown",
   "metadata": {},
   "source": [
    "<div class=\"alert alert-info\"><h4>Note</h4><p>When we added an electrode with the :py:meth:`~pynwb.file.NWBFile.add_electrode`\n",
    "   method, we passed in the :py:class:`~pynwb.ecephys.ElectrodeGroup` object for the ``\"group\"`` argument.\n",
    "   This creates a reference from the ``\"electrodes\"`` table to the individual\n",
    "   :py:class:`~pynwb.ecephys.ElectrodeGroup` objects, one per row (electrode).</p></div>\n",
    "\n"
   ]
  },
  {
   "cell_type": "markdown",
   "metadata": {},
   "source": [
    "\n",
    "## Extracellular recordings\n",
    "\n",
    "Raw voltage traces and local-field potential (LFP) data are stored in :py:class:`~pynwb.ecephys.ElectricalSeries`\n",
    "objects. :py:class:`~pynwb.ecephys.ElectricalSeries` is a subclass of :py:class:`~pynwb.base.TimeSeries`\n",
    "specialized for voltage data. To create the :py:class:`~pynwb.ecephys.ElectricalSeries` objects, we need to\n",
    "reference a set of rows in the ``\"electrodes\"`` table to indicate which electrodes were recorded. We will do this\n",
    "by creating a :py:class:`~pynwb.core.DynamicTableRegion`, which is a type of link that allows you to reference\n",
    ":py:meth:~pynwb.file.NWBFile.create_electrode_table_region` is a convenience function that creates a\n",
    ":py:class:`~pynwb.core.DynamicTableRegion` which references the ``\"electrodes\"`` table.\n",
    "\n"
   ]
  },
  {
   "cell_type": "code",
   "execution_count": 8,
   "metadata": {
    "collapsed": false,
    "jupyter": {
     "outputs_hidden": false
    }
   },
   "outputs": [],
   "source": [
    "all_table_region = nwbfile.create_electrode_table_region(\n",
    "    region=list(range(electrode_counter)),  # reference row indices 0 to N-1\n",
    "    description=\"all electrodes\",\n",
    ")"
   ]
  },
  {
   "cell_type": "markdown",
   "metadata": {},
   "source": [
    "### Raw voltage data\n",
    "\n",
    "Now create an :py:class:`~pynwb.ecephys.ElectricalSeries` object to store raw data collected\n",
    "during the experiment, passing in this ``\"all_table_region\"`` :py:class:`~pynwb.core.DynamicTableRegion`\n",
    "reference to all rows of the electrodes table.\n",
    "\n",
    ".. only:: html\n",
    "\n",
    "  .. image:: ../../_static/ElectricalSeries.svg\n",
    "    :width: 800\n",
    "    :alt: electrical series UML diagram\n",
    "    :align: center\n",
    "\n",
    ".. only:: latex\n",
    "\n",
    "  .. image:: ../../_static/ElectricalSeries.png\n",
    "    :width: 800\n",
    "    :alt: electrical series UML diagram\n",
    "    :align: center\n",
    "\n",
    "\n"
   ]
  },
  {
   "cell_type": "code",
   "execution_count": 9,
   "metadata": {
    "collapsed": false,
    "jupyter": {
     "outputs_hidden": false
    }
   },
   "outputs": [
    {
     "name": "stderr",
     "output_type": "stream",
     "text": [
      "/home1/cameron.holman/anaconda3/envs/neuro1/lib/python3.10/site-packages/pynwb/ecephys.py:92: UserWarning: ElectricalSeries 'ElectricalSeries': The second dimension of data does not match the length of electrodes. Your data may be transposed.\n",
      "  warnings.warn(\"%s '%s': The second dimension of data does not match the length of electrodes. \"\n"
     ]
    }
   ],
   "source": [
    "raw_data = np.random.randn(50, 4)\n",
    "raw_electrical_series = ElectricalSeries(\n",
    "    name=\"ElectricalSeries\",\n",
    "    data=raw_data,\n",
    "    electrodes=all_table_region,\n",
    "    starting_time=0.0,  # timestamp of the first sample in seconds relative to the session start time\n",
    "    rate=20000.0,  # in Hz\n",
    ")"
   ]
  },
  {
   "cell_type": "markdown",
   "metadata": {},
   "source": [
    "NWB organizes data into different groups depending on the type of data. Groups can be thought of\n",
    "as folders within the file. Here are some of the groups within an :py:class:`~pynwb.file.NWBFile` and the types of\n",
    "data they are intended to store:\n",
    "\n",
    "* **acquisition**: raw, acquired data that should never change\n",
    "* **processing**: processed data, typically the results of preprocessing algorithms and could change\n",
    "* **analysis**: results of data analysis\n",
    "* **stimuli**: stimuli used in the experiment (e.g., images, videos, light pulses)\n",
    "\n",
    "Since this :py:class:`~pynwb.ecephys.ElectricalSeries` represents raw data from the data acquisition system,\n",
    "we will add it to the acquisition group of the :py:class:`~pynwb.file.NWBFile`.\n",
    "\n"
   ]
  },
  {
   "cell_type": "code",
   "execution_count": 11,
   "metadata": {
    "collapsed": false,
    "jupyter": {
     "outputs_hidden": false
    }
   },
   "outputs": [
    {
     "ename": "ValueError",
     "evalue": "'ElectricalSeries' already exists in NWBFile 'root'",
     "output_type": "error",
     "traceback": [
      "\u001b[0;31m---------------------------------------------------------------------------\u001b[0m",
      "\u001b[0;31mValueError\u001b[0m                                Traceback (most recent call last)",
      "\u001b[0;32m/tmp/ipykernel_40456/747176985.py\u001b[0m in \u001b[0;36m<module>\u001b[0;34m\u001b[0m\n\u001b[0;32m----> 1\u001b[0;31m \u001b[0mnwbfile\u001b[0m\u001b[0;34m.\u001b[0m\u001b[0madd_acquisition\u001b[0m\u001b[0;34m(\u001b[0m\u001b[0mraw_electrical_series\u001b[0m\u001b[0;34m)\u001b[0m\u001b[0;34m\u001b[0m\u001b[0;34m\u001b[0m\u001b[0m\n\u001b[0m",
      "\u001b[0;32m~/anaconda3/envs/neuro1/lib/python3.10/site-packages/hdmf/utils.py\u001b[0m in \u001b[0;36mfunc_call\u001b[0;34m(*args, **kwargs)\u001b[0m\n\u001b[1;32m    637\u001b[0m             \u001b[0;32mdef\u001b[0m \u001b[0mfunc_call\u001b[0m\u001b[0;34m(\u001b[0m\u001b[0;34m*\u001b[0m\u001b[0margs\u001b[0m\u001b[0;34m,\u001b[0m \u001b[0;34m**\u001b[0m\u001b[0mkwargs\u001b[0m\u001b[0;34m)\u001b[0m\u001b[0;34m:\u001b[0m\u001b[0;34m\u001b[0m\u001b[0;34m\u001b[0m\u001b[0m\n\u001b[1;32m    638\u001b[0m                 \u001b[0mpargs\u001b[0m \u001b[0;34m=\u001b[0m \u001b[0m_check_args\u001b[0m\u001b[0;34m(\u001b[0m\u001b[0margs\u001b[0m\u001b[0;34m,\u001b[0m \u001b[0mkwargs\u001b[0m\u001b[0;34m)\u001b[0m\u001b[0;34m\u001b[0m\u001b[0;34m\u001b[0m\u001b[0m\n\u001b[0;32m--> 639\u001b[0;31m                 \u001b[0;32mreturn\u001b[0m \u001b[0mfunc\u001b[0m\u001b[0;34m(\u001b[0m\u001b[0margs\u001b[0m\u001b[0;34m[\u001b[0m\u001b[0;36m0\u001b[0m\u001b[0;34m]\u001b[0m\u001b[0;34m,\u001b[0m \u001b[0;34m**\u001b[0m\u001b[0mpargs\u001b[0m\u001b[0;34m)\u001b[0m\u001b[0;34m\u001b[0m\u001b[0;34m\u001b[0m\u001b[0m\n\u001b[0m\u001b[1;32m    640\u001b[0m         \u001b[0;32melse\u001b[0m\u001b[0;34m:\u001b[0m\u001b[0;34m\u001b[0m\u001b[0;34m\u001b[0m\u001b[0m\n\u001b[1;32m    641\u001b[0m             \u001b[0;32mdef\u001b[0m \u001b[0mfunc_call\u001b[0m\u001b[0;34m(\u001b[0m\u001b[0;34m*\u001b[0m\u001b[0margs\u001b[0m\u001b[0;34m,\u001b[0m \u001b[0;34m**\u001b[0m\u001b[0mkwargs\u001b[0m\u001b[0;34m)\u001b[0m\u001b[0;34m:\u001b[0m\u001b[0;34m\u001b[0m\u001b[0;34m\u001b[0m\u001b[0m\n",
      "\u001b[0;32m~/anaconda3/envs/neuro1/lib/python3.10/site-packages/pynwb/file.py\u001b[0m in \u001b[0;36madd_acquisition\u001b[0;34m(self, **kwargs)\u001b[0m\n\u001b[1;32m    803\u001b[0m     \u001b[0;32mdef\u001b[0m \u001b[0madd_acquisition\u001b[0m\u001b[0;34m(\u001b[0m\u001b[0mself\u001b[0m\u001b[0;34m,\u001b[0m \u001b[0;34m**\u001b[0m\u001b[0mkwargs\u001b[0m\u001b[0;34m)\u001b[0m\u001b[0;34m:\u001b[0m\u001b[0;34m\u001b[0m\u001b[0;34m\u001b[0m\u001b[0m\n\u001b[1;32m    804\u001b[0m         \u001b[0mnwbdata\u001b[0m \u001b[0;34m=\u001b[0m \u001b[0mpopargs\u001b[0m\u001b[0;34m(\u001b[0m\u001b[0;34m'nwbdata'\u001b[0m\u001b[0;34m,\u001b[0m \u001b[0mkwargs\u001b[0m\u001b[0;34m)\u001b[0m\u001b[0;34m\u001b[0m\u001b[0;34m\u001b[0m\u001b[0m\n\u001b[0;32m--> 805\u001b[0;31m         \u001b[0mself\u001b[0m\u001b[0;34m.\u001b[0m\u001b[0m_add_acquisition_internal\u001b[0m\u001b[0;34m(\u001b[0m\u001b[0mnwbdata\u001b[0m\u001b[0;34m)\u001b[0m\u001b[0;34m\u001b[0m\u001b[0;34m\u001b[0m\u001b[0m\n\u001b[0m\u001b[1;32m    806\u001b[0m         \u001b[0muse_sweep_table\u001b[0m \u001b[0;34m=\u001b[0m \u001b[0mpopargs\u001b[0m\u001b[0;34m(\u001b[0m\u001b[0;34m'use_sweep_table'\u001b[0m\u001b[0;34m,\u001b[0m \u001b[0mkwargs\u001b[0m\u001b[0;34m)\u001b[0m\u001b[0;34m\u001b[0m\u001b[0;34m\u001b[0m\u001b[0m\n\u001b[1;32m    807\u001b[0m         \u001b[0;32mif\u001b[0m \u001b[0muse_sweep_table\u001b[0m\u001b[0;34m:\u001b[0m\u001b[0;34m\u001b[0m\u001b[0;34m\u001b[0m\u001b[0m\n",
      "\u001b[0;32m~/anaconda3/envs/neuro1/lib/python3.10/site-packages/hdmf/utils.py\u001b[0m in \u001b[0;36mfunc_call\u001b[0;34m(*args, **kwargs)\u001b[0m\n\u001b[1;32m    637\u001b[0m             \u001b[0;32mdef\u001b[0m \u001b[0mfunc_call\u001b[0m\u001b[0;34m(\u001b[0m\u001b[0;34m*\u001b[0m\u001b[0margs\u001b[0m\u001b[0;34m,\u001b[0m \u001b[0;34m**\u001b[0m\u001b[0mkwargs\u001b[0m\u001b[0;34m)\u001b[0m\u001b[0;34m:\u001b[0m\u001b[0;34m\u001b[0m\u001b[0;34m\u001b[0m\u001b[0m\n\u001b[1;32m    638\u001b[0m                 \u001b[0mpargs\u001b[0m \u001b[0;34m=\u001b[0m \u001b[0m_check_args\u001b[0m\u001b[0;34m(\u001b[0m\u001b[0margs\u001b[0m\u001b[0;34m,\u001b[0m \u001b[0mkwargs\u001b[0m\u001b[0;34m)\u001b[0m\u001b[0;34m\u001b[0m\u001b[0;34m\u001b[0m\u001b[0m\n\u001b[0;32m--> 639\u001b[0;31m                 \u001b[0;32mreturn\u001b[0m \u001b[0mfunc\u001b[0m\u001b[0;34m(\u001b[0m\u001b[0margs\u001b[0m\u001b[0;34m[\u001b[0m\u001b[0;36m0\u001b[0m\u001b[0;34m]\u001b[0m\u001b[0;34m,\u001b[0m \u001b[0;34m**\u001b[0m\u001b[0mpargs\u001b[0m\u001b[0;34m)\u001b[0m\u001b[0;34m\u001b[0m\u001b[0;34m\u001b[0m\u001b[0m\n\u001b[0m\u001b[1;32m    640\u001b[0m         \u001b[0;32melse\u001b[0m\u001b[0;34m:\u001b[0m\u001b[0;34m\u001b[0m\u001b[0;34m\u001b[0m\u001b[0m\n\u001b[1;32m    641\u001b[0m             \u001b[0;32mdef\u001b[0m \u001b[0mfunc_call\u001b[0m\u001b[0;34m(\u001b[0m\u001b[0;34m*\u001b[0m\u001b[0margs\u001b[0m\u001b[0;34m,\u001b[0m \u001b[0;34m**\u001b[0m\u001b[0mkwargs\u001b[0m\u001b[0;34m)\u001b[0m\u001b[0;34m:\u001b[0m\u001b[0;34m\u001b[0m\u001b[0;34m\u001b[0m\u001b[0m\n",
      "\u001b[0;32m~/anaconda3/envs/neuro1/lib/python3.10/site-packages/hdmf/container.py\u001b[0m in \u001b[0;36m_func\u001b[0;34m(self, **kwargs)\u001b[0m\n\u001b[1;32m    752\u001b[0m                 \u001b[0;32mif\u001b[0m \u001b[0mtmp\u001b[0m\u001b[0;34m.\u001b[0m\u001b[0mname\u001b[0m \u001b[0;32min\u001b[0m \u001b[0md\u001b[0m\u001b[0;34m:\u001b[0m\u001b[0;34m\u001b[0m\u001b[0;34m\u001b[0m\u001b[0m\n\u001b[1;32m    753\u001b[0m                     \u001b[0mmsg\u001b[0m \u001b[0;34m=\u001b[0m \u001b[0;34m\"'%s' already exists in %s '%s'\"\u001b[0m \u001b[0;34m%\u001b[0m \u001b[0;34m(\u001b[0m\u001b[0mtmp\u001b[0m\u001b[0;34m.\u001b[0m\u001b[0mname\u001b[0m\u001b[0;34m,\u001b[0m \u001b[0mcls\u001b[0m\u001b[0;34m.\u001b[0m\u001b[0m__name__\u001b[0m\u001b[0;34m,\u001b[0m \u001b[0mself\u001b[0m\u001b[0;34m.\u001b[0m\u001b[0mname\u001b[0m\u001b[0;34m)\u001b[0m\u001b[0;34m\u001b[0m\u001b[0;34m\u001b[0m\u001b[0m\n\u001b[0;32m--> 754\u001b[0;31m                     \u001b[0;32mraise\u001b[0m \u001b[0mValueError\u001b[0m\u001b[0;34m(\u001b[0m\u001b[0mmsg\u001b[0m\u001b[0;34m)\u001b[0m\u001b[0;34m\u001b[0m\u001b[0;34m\u001b[0m\u001b[0m\n\u001b[0m\u001b[1;32m    755\u001b[0m                 \u001b[0md\u001b[0m\u001b[0;34m[\u001b[0m\u001b[0mtmp\u001b[0m\u001b[0;34m.\u001b[0m\u001b[0mname\u001b[0m\u001b[0;34m]\u001b[0m \u001b[0;34m=\u001b[0m \u001b[0mtmp\u001b[0m\u001b[0;34m\u001b[0m\u001b[0;34m\u001b[0m\u001b[0m\n\u001b[1;32m    756\u001b[0m             \u001b[0;32mreturn\u001b[0m \u001b[0mcontainer\u001b[0m\u001b[0;34m\u001b[0m\u001b[0;34m\u001b[0m\u001b[0m\n",
      "\u001b[0;31mValueError\u001b[0m: 'ElectricalSeries' already exists in NWBFile 'root'"
     ]
    }
   ],
   "source": [
    "nwbfile.add_acquisition(raw_electrical_series)"
   ]
  },
  {
   "cell_type": "markdown",
   "metadata": {},
   "source": [
    "### LFP\n",
    "\n",
    "Now create an :py:class:`~pynwb.ecephys.ElectricalSeries` object to store LFP data collected during the experiment,\n",
    "again passing in the :py:class:`~pynwb.core.DynamicTableRegion` reference to all rows of the ``\"electrodes\"`` table.\n",
    "\n"
   ]
  },
  {
   "cell_type": "code",
   "execution_count": 12,
   "metadata": {
    "collapsed": false,
    "jupyter": {
     "outputs_hidden": false
    }
   },
   "outputs": [],
   "source": [
    "lfp_data = np.random.randn(50, 4)\n",
    "lfp_electrical_series = ElectricalSeries(\n",
    "    name=\"ElectricalSeries\",\n",
    "    data=lfp_data,\n",
    "    electrodes=all_table_region,\n",
    "    starting_time=0.0,\n",
    "    rate=200.0,\n",
    ")"
   ]
  },
  {
   "cell_type": "markdown",
   "metadata": {},
   "source": [
    "To help data analysis and visualization tools know that this :py:class:`~pynwb.ecephys.ElectricalSeries` object\n",
    "represents LFP data, store the :py:class:`~pynwb.ecephys.ElectricalSeries` object inside of an\n",
    ":py:class:`~pynwb.ecephys.LFP` object. This is analogous to how we can store the\n",
    ":py:class:`~pynwb.behavior.SpatialSeries` object inside of a :py:class:`~pynwb.behavior.Position` object.\n",
    "\n",
    ".. only:: html\n",
    "\n",
    "  .. image:: ../../_static/LFP.svg\n",
    "    :width: 800\n",
    "    :alt: LFP UML diagram\n",
    "    :align: center\n",
    "\n",
    ".. only:: latex\n",
    "\n",
    "  .. image:: ../../_static/LFP.png\n",
    "    :width: 800\n",
    "    :alt: LFP UML diagram\n",
    "    :align: center\n",
    "\n",
    "\n"
   ]
  },
  {
   "cell_type": "code",
   "execution_count": 13,
   "metadata": {
    "collapsed": false,
    "jupyter": {
     "outputs_hidden": false
    }
   },
   "outputs": [],
   "source": [
    "lfp = LFP(electrical_series=lfp_electrical_series)"
   ]
  },
  {
   "cell_type": "markdown",
   "metadata": {},
   "source": [
    "Unlike the raw data, which we put into the acquisition group of the :py:class:`~pynwb.file.NWBFile`,\n",
    "LFP data is typically considered processed data because the raw data was filtered and downsampled to generate the LFP.\n",
    "\n",
    "Create a processing module named ``\"ecephys\"`` and add the :py:class:`~pynwb.ecephys.LFP` object to it.\n",
    "This is analogous to how we can store the :py:class:`~pynwb.behavior.Position` object in a processing module\n",
    "created with the :py:class:`~pynwb.file.NWBFile.create_processing_module` method.\n",
    "\n"
   ]
  },
  {
   "cell_type": "code",
   "execution_count": 14,
   "metadata": {
    "collapsed": false,
    "jupyter": {
     "outputs_hidden": false
    }
   },
   "outputs": [
    {
     "data": {
      "text/plain": [
       "LFP pynwb.ecephys.LFP at 0x139824325122688\n",
       "Fields:\n",
       "  electrical_series: {\n",
       "    ElectricalSeries <class 'pynwb.ecephys.ElectricalSeries'>\n",
       "  }"
      ]
     },
     "execution_count": 14,
     "metadata": {},
     "output_type": "execute_result"
    }
   ],
   "source": [
    "ecephys_module = nwbfile.create_processing_module(\n",
    "    name=\"ecephys\", description=\"processed extracellular electrophysiology data\"\n",
    ")\n",
    "ecephys_module.add(lfp)"
   ]
  },
  {
   "cell_type": "markdown",
   "metadata": {},
   "source": [
    "\n",
    "### Spike Times\n",
    "\n",
    "Spike times are stored in the :py:class:`~pynwb.misc.Units` table, which is a subclass of\n",
    ":py:class:`~hdmf.common.table.DynamicTable`. Adding columns to the :py:class:`~pynwb.misc.Units` table is analogous\n",
    "to how we can add columns to the ``\"electrodes\"`` and ``\"trials\"`` tables.\n",
    "\n",
    "We will generate some random spike data and populate the :py:meth:`~pynwb.misc.Units` table using the\n",
    ":py:class:`~pynwb.file.NWBFile.add_unit` method. Then we can display the :py:class:`~pynwb.misc.Units` table as a\n",
    "pandas :py:class:`~pandas.DataFrame`.\n",
    "\n"
   ]
  },
  {
   "cell_type": "code",
   "execution_count": 15,
   "metadata": {
    "collapsed": false,
    "jupyter": {
     "outputs_hidden": false
    }
   },
   "outputs": [
    {
     "data": {
      "text/html": [
       "<div>\n",
       "<style scoped>\n",
       "    .dataframe tbody tr th:only-of-type {\n",
       "        vertical-align: middle;\n",
       "    }\n",
       "\n",
       "    .dataframe tbody tr th {\n",
       "        vertical-align: top;\n",
       "    }\n",
       "\n",
       "    .dataframe thead th {\n",
       "        text-align: right;\n",
       "    }\n",
       "</style>\n",
       "<table border=\"1\" class=\"dataframe\">\n",
       "  <thead>\n",
       "    <tr style=\"text-align: right;\">\n",
       "      <th></th>\n",
       "      <th>quality</th>\n",
       "      <th>spike_times</th>\n",
       "      <th>waveform_mean</th>\n",
       "    </tr>\n",
       "    <tr>\n",
       "      <th>id</th>\n",
       "      <th></th>\n",
       "      <th></th>\n",
       "      <th></th>\n",
       "    </tr>\n",
       "  </thead>\n",
       "  <tbody>\n",
       "    <tr>\n",
       "      <th>0</th>\n",
       "      <td>good</td>\n",
       "      <td>[0.01376, 0.05809, 0.15316, 0.23711, 0.2502, 0...</td>\n",
       "      <td>[1.0, 2.0, 3.0, 4.0, 5.0]</td>\n",
       "    </tr>\n",
       "    <tr>\n",
       "      <th>1</th>\n",
       "      <td>good</td>\n",
       "      <td>[0.08364, 0.17017, 0.1732, 0.17534, 0.25208, 0...</td>\n",
       "      <td>[1.0, 2.0, 3.0, 4.0, 5.0]</td>\n",
       "    </tr>\n",
       "    <tr>\n",
       "      <th>2</th>\n",
       "      <td>good</td>\n",
       "      <td>[0.004, 0.03334, 0.05886, 0.07497, 0.09777, 0....</td>\n",
       "      <td>[1.0, 2.0, 3.0, 4.0, 5.0]</td>\n",
       "    </tr>\n",
       "    <tr>\n",
       "      <th>3</th>\n",
       "      <td>good</td>\n",
       "      <td>[0.02227, 0.11376, 0.14266, 0.14895, 0.24448, ...</td>\n",
       "      <td>[1.0, 2.0, 3.0, 4.0, 5.0]</td>\n",
       "    </tr>\n",
       "    <tr>\n",
       "      <th>4</th>\n",
       "      <td>good</td>\n",
       "      <td>[0.01155, 0.04894, 0.07774, 0.11909, 0.14968, ...</td>\n",
       "      <td>[1.0, 2.0, 3.0, 4.0, 5.0]</td>\n",
       "    </tr>\n",
       "    <tr>\n",
       "      <th>5</th>\n",
       "      <td>good</td>\n",
       "      <td>[0.14889, 0.20491, 0.24924, 0.32574, 0.33124, ...</td>\n",
       "      <td>[1.0, 2.0, 3.0, 4.0, 5.0]</td>\n",
       "    </tr>\n",
       "    <tr>\n",
       "      <th>6</th>\n",
       "      <td>good</td>\n",
       "      <td>[0.11313, 0.17051, 0.22803, 0.24634, 0.32061, ...</td>\n",
       "      <td>[1.0, 2.0, 3.0, 4.0, 5.0]</td>\n",
       "    </tr>\n",
       "    <tr>\n",
       "      <th>7</th>\n",
       "      <td>good</td>\n",
       "      <td>[0.00797, 0.0823, 0.11589, 0.28089, 0.31506, 0...</td>\n",
       "      <td>[1.0, 2.0, 3.0, 4.0, 5.0]</td>\n",
       "    </tr>\n",
       "    <tr>\n",
       "      <th>8</th>\n",
       "      <td>good</td>\n",
       "      <td>[0.00809, 0.0468, 0.04789, 0.1547, 0.28547, 0....</td>\n",
       "      <td>[1.0, 2.0, 3.0, 4.0, 5.0]</td>\n",
       "    </tr>\n",
       "    <tr>\n",
       "      <th>9</th>\n",
       "      <td>good</td>\n",
       "      <td>[0.05884, 0.07353, 0.20966, 0.21839, 0.23778, ...</td>\n",
       "      <td>[1.0, 2.0, 3.0, 4.0, 5.0]</td>\n",
       "    </tr>\n",
       "  </tbody>\n",
       "</table>\n",
       "</div>"
      ],
      "text/plain": [
       "   quality                                        spike_times  \\\n",
       "id                                                              \n",
       "0     good  [0.01376, 0.05809, 0.15316, 0.23711, 0.2502, 0...   \n",
       "1     good  [0.08364, 0.17017, 0.1732, 0.17534, 0.25208, 0...   \n",
       "2     good  [0.004, 0.03334, 0.05886, 0.07497, 0.09777, 0....   \n",
       "3     good  [0.02227, 0.11376, 0.14266, 0.14895, 0.24448, ...   \n",
       "4     good  [0.01155, 0.04894, 0.07774, 0.11909, 0.14968, ...   \n",
       "5     good  [0.14889, 0.20491, 0.24924, 0.32574, 0.33124, ...   \n",
       "6     good  [0.11313, 0.17051, 0.22803, 0.24634, 0.32061, ...   \n",
       "7     good  [0.00797, 0.0823, 0.11589, 0.28089, 0.31506, 0...   \n",
       "8     good  [0.00809, 0.0468, 0.04789, 0.1547, 0.28547, 0....   \n",
       "9     good  [0.05884, 0.07353, 0.20966, 0.21839, 0.23778, ...   \n",
       "\n",
       "                waveform_mean  \n",
       "id                             \n",
       "0   [1.0, 2.0, 3.0, 4.0, 5.0]  \n",
       "1   [1.0, 2.0, 3.0, 4.0, 5.0]  \n",
       "2   [1.0, 2.0, 3.0, 4.0, 5.0]  \n",
       "3   [1.0, 2.0, 3.0, 4.0, 5.0]  \n",
       "4   [1.0, 2.0, 3.0, 4.0, 5.0]  \n",
       "5   [1.0, 2.0, 3.0, 4.0, 5.0]  \n",
       "6   [1.0, 2.0, 3.0, 4.0, 5.0]  \n",
       "7   [1.0, 2.0, 3.0, 4.0, 5.0]  \n",
       "8   [1.0, 2.0, 3.0, 4.0, 5.0]  \n",
       "9   [1.0, 2.0, 3.0, 4.0, 5.0]  "
      ]
     },
     "execution_count": 15,
     "metadata": {},
     "output_type": "execute_result"
    }
   ],
   "source": [
    "nwbfile.add_unit_column(name=\"quality\", description=\"sorting quality\")\n",
    "\n",
    "poisson_lambda = 20\n",
    "firing_rate = 20\n",
    "n_units = 10\n",
    "for n_units_per_shank in range(n_units):\n",
    "    n_spikes = np.random.poisson(lam=poisson_lambda)\n",
    "    spike_times = np.round(\n",
    "        np.cumsum(np.random.exponential(1 / firing_rate, n_spikes)), 5\n",
    "    )\n",
    "    nwbfile.add_unit(\n",
    "        spike_times=spike_times, quality=\"good\", waveform_mean=[1.0, 2.0, 3.0, 4.0, 5.0]\n",
    "    )\n",
    "\n",
    "nwbfile.units.to_dataframe()"
   ]
  },
  {
   "cell_type": "markdown",
   "metadata": {},
   "source": [
    "### Designating electrophysiology data\n",
    "\n",
    "As mentioned above, :py:class:`~pynwb.ecephys.ElectricalSeries` objects\n",
    "are meant for storing specific types of extracellular recordings. In addition to this\n",
    ":py:class:`~pynwb.base.TimeSeries` class, NWB provides some `modules_overview`\n",
    "for designating the type of data you are storing. We will briefly discuss them here, and refer the reader to\n",
    ":py:mod:`API documentation <pynwb.ecephys>` and `basics` for more details on\n",
    "using these objects.\n",
    "\n",
    "For storing spike data, there are two options. Which one you choose depends on what data you have available.\n",
    "If you need to store the complete, continuous raw voltage traces, you should store your the traces with\n",
    ":py:class:`~pynwb.ecephys.ElectricalSeries` objects as `acquisition <basic_timeseries>` data, and use\n",
    "the :py:class:`~pynwb.ecephys.EventDetection` class for identifying the spike events in your raw traces.\n",
    "If you do not want to store the raw voltage traces and only the waveform 'snippets' surrounding spike events,\n",
    "you should use the :py:class:`~pynwb.ecephys.EventWaveform` class, which can store one or more\n",
    ":py:class:`~pynwb.ecephys.SpikeEventSeries` objects.\n",
    "\n",
    "The results of spike sorting (or clustering) should be stored in the top-level :py:class:`~pynwb.misc.Units` table.\n",
    "Note that it is not required to store spike waveforms in order to store spike events or waveforms--if you only\n",
    "want to store the spike times of clustered units you can use only the Units table.\n",
    "\n",
    "For local field potential data, there are two options. Again, which one you choose depends on what data you\n",
    "have available. With both options, you should store your traces with :py:class:`~pynwb.ecephys.ElectricalSeries`\n",
    "objects. If you are storing unfiltered local field potential data, you should store\n",
    "the :py:class:`~pynwb.ecephys.ElectricalSeries` objects in :py:class:`~pynwb.ecephys.LFP` data interface object(s).\n",
    "If you have filtered LFP data, you should store the :py:class:`~pynwb.ecephys.ElectricalSeries` objects  in\n",
    ":py:class:`~pynwb.ecephys.FilteredEphys` data interface object(s).\n",
    "\n"
   ]
  },
  {
   "cell_type": "markdown",
   "metadata": {},
   "source": [
    "\n",
    "## Writing electrophysiology data\n",
    "\n",
    "Once you have finished adding all of your data to the :py:class:`~pynwb.file.NWBFile`,\n",
    "write the file with :py:class:`~pynwb.NWBHDF5IO`.\n",
    "\n"
   ]
  },
  {
   "cell_type": "code",
   "execution_count": 16,
   "metadata": {
    "collapsed": false,
    "jupyter": {
     "outputs_hidden": false
    }
   },
   "outputs": [],
   "source": [
    "with NWBHDF5IO(\"ecephys_tutorial.nwb\", \"w\") as io:\n",
    "    io.write(nwbfile)"
   ]
  },
  {
   "cell_type": "markdown",
   "metadata": {},
   "source": [
    "For more details on :py:class:`~pynwb.NWBHDF5IO`, see the `basic_writing` tutorial.\n",
    "\n"
   ]
  },
  {
   "cell_type": "markdown",
   "metadata": {},
   "source": [
    "\n",
    "## Reading electrophysiology data\n",
    "\n",
    "We can access the raw data by indexing :py:class:`~pynwb.file.NWBFile.acquisition`\n",
    "with the name of the :py:class:`~pynwb.ecephys.ElectricalSeries`, which we named ``\"ElectricalSeries\"``.\n",
    "We can also access the LFP data by indexing :py:class:`~pynwb.file.NWBFile.processing`\n",
    "with the name of the processing module ``\"ecephys\"``.\n",
    "Then, we can access the :py:class:`~pynwb.ecephys.LFP` object inside of the ``\"ecephys\"`` processing module\n",
    "by indexing it with the name of the :py:class:`~pynwb.ecephys.LFP` object.\n",
    "The default name of :py:class:`~pynwb.ecephys.LFP` objects is ``\"LFP\"``.\n",
    "Finally, we can access the :py:class:`~pynwb.ecephys.ElectricalSeries` object inside of the\n",
    ":py:class:`~pynwb.ecephys.LFP` object by indexing it with the name of the\n",
    ":py:class:`~pynwb.ecephys.ElectricalSeries` object, which we named ``\"ElectricalSeries\"``.\n",
    "\n"
   ]
  },
  {
   "cell_type": "code",
   "execution_count": 17,
   "metadata": {
    "collapsed": false,
    "jupyter": {
     "outputs_hidden": false
    }
   },
   "outputs": [
    {
     "name": "stdout",
     "output_type": "stream",
     "text": [
      "ElectricalSeries pynwb.ecephys.ElectricalSeries at 0x139824319688000\n",
      "Fields:\n",
      "  comments: no comments\n",
      "  conversion: 1.0\n",
      "  data: <HDF5 dataset \"data\": shape (50, 4), type \"<f8\">\n",
      "  description: no description\n",
      "  electrodes: electrodes <class 'hdmf.common.table.DynamicTableRegion'>\n",
      "  offset: 0.0\n",
      "  rate: 20000.0\n",
      "  resolution: -1.0\n",
      "  starting_time: 0.0\n",
      "  starting_time_unit: seconds\n",
      "  unit: volts\n",
      "\n",
      "ecephys pynwb.base.ProcessingModule at 0x139824319688720\n",
      "Fields:\n",
      "  data_interfaces: {\n",
      "    LFP <class 'pynwb.ecephys.LFP'>\n",
      "  }\n",
      "  description: processed extracellular electrophysiology data\n",
      "\n",
      "LFP pynwb.ecephys.LFP at 0x139824319689776\n",
      "Fields:\n",
      "  electrical_series: {\n",
      "    ElectricalSeries <class 'pynwb.ecephys.ElectricalSeries'>\n",
      "  }\n",
      "\n",
      "ElectricalSeries pynwb.ecephys.ElectricalSeries at 0x139824319689920\n",
      "Fields:\n",
      "  comments: no comments\n",
      "  conversion: 1.0\n",
      "  data: <HDF5 dataset \"data\": shape (50, 4), type \"<f8\">\n",
      "  description: no description\n",
      "  electrodes: electrodes <class 'hdmf.common.table.DynamicTableRegion'>\n",
      "  offset: 0.0\n",
      "  rate: 200.0\n",
      "  resolution: -1.0\n",
      "  starting_time: 0.0\n",
      "  starting_time_unit: seconds\n",
      "  unit: volts\n",
      "\n"
     ]
    },
    {
     "name": "stderr",
     "output_type": "stream",
     "text": [
      "/home1/cameron.holman/anaconda3/envs/neuro1/lib/python3.10/site-packages/pynwb/ecephys.py:92: UserWarning: ElectricalSeries 'ElectricalSeries': The second dimension of data does not match the length of electrodes. Your data may be transposed.\n",
      "  warnings.warn(\"%s '%s': The second dimension of data does not match the length of electrodes. \"\n"
     ]
    }
   ],
   "source": [
    "with NWBHDF5IO(\"ecephys_tutorial.nwb\", \"r\") as io:\n",
    "    read_nwbfile = io.read()\n",
    "    print(read_nwbfile.acquisition[\"ElectricalSeries\"])\n",
    "    print(read_nwbfile.processing[\"ecephys\"])\n",
    "    print(read_nwbfile.processing[\"ecephys\"][\"LFP\"])\n",
    "    print(read_nwbfile.processing[\"ecephys\"][\"LFP\"][\"ElectricalSeries\"])"
   ]
  },
  {
   "cell_type": "markdown",
   "metadata": {},
   "source": [
    "### Accessing your data\n",
    "\n",
    "Data arrays are read passively from the file.\n",
    "Calling the data attribute on a :py:class:`~pynwb.base.pynwb.TimeSeries`\n",
    "such as a :py:class:`~pynwb.ecephys.ElectricalSeries` does not read the data\n",
    "values, but presents an :py:class:`~h5py` object that can be indexed to read data.\n",
    "You can use the ``[:]`` operator to read the entire data array into memory.\n",
    "\n",
    "Load and print all the data values of the :py:class:`~pynwb.ecephys.ElectricalSeries`\n",
    "object representing the LFP data.\n",
    "\n"
   ]
  },
  {
   "cell_type": "code",
   "execution_count": 18,
   "metadata": {
    "collapsed": false,
    "jupyter": {
     "outputs_hidden": false
    }
   },
   "outputs": [
    {
     "name": "stdout",
     "output_type": "stream",
     "text": [
      "[[-5.85912916e-01 -1.40842228e+00  4.73521587e-02  1.54075212e+00]\n",
      " [ 1.90457120e-01 -1.57214794e+00  6.78777976e-02  2.34009162e+00]\n",
      " [ 6.39791314e-01  1.10515259e+00  5.38284761e-01  7.90664657e-01]\n",
      " [-1.50067221e+00 -3.94564818e-02 -9.84119321e-01  8.87551005e-01]\n",
      " [-6.04310074e-01 -7.67716351e-01  8.03790053e-01  2.17652331e-02]\n",
      " [ 1.19652273e+00 -2.14108304e+00 -6.59115056e-01  1.13125271e+00]\n",
      " [-3.64281819e-01  7.78081979e-01  1.08664135e-01 -7.51434210e-01]\n",
      " [-6.98259096e-01 -1.09635124e-01 -2.87075935e-01 -4.43086954e-01]\n",
      " [ 1.48735236e+00  8.79765099e-01  7.61942996e-02  4.17390091e-01]\n",
      " [-2.63572142e-01  1.10449299e-01 -1.72272964e+00 -1.08884627e-02]\n",
      " [ 1.41855331e-01  4.02880657e-01  9.68789140e-01 -5.15694016e-01]\n",
      " [-7.18830635e-02 -3.66096235e-01  1.46390821e-01  1.43430742e+00]\n",
      " [-1.45000021e+00 -6.15197078e-01 -6.17515180e-01  2.08312177e-01]\n",
      " [-1.64682659e-01  5.68043045e-01  1.83905259e-01  3.11258201e-01]\n",
      " [-7.58424216e-01 -4.50690546e-02  9.46077960e-01 -1.64070635e+00]\n",
      " [ 5.02456553e-01 -1.83453429e-01 -1.36295516e-01  7.89027654e-02]\n",
      " [-1.77590024e+00 -1.92719578e+00  1.44774344e+00  1.23797071e+00]\n",
      " [-7.38788949e-01 -4.53264650e-02  2.96752510e-01  1.67644734e+00]\n",
      " [-1.62287900e+00  2.10422851e+00  1.45064653e+00 -4.55991345e-01]\n",
      " [ 8.14633559e-01 -6.87889685e-02 -2.24459869e-01 -2.16587761e+00]\n",
      " [-1.39505998e+00  2.29814047e-01 -1.16026382e-01 -4.22265453e-02]\n",
      " [ 1.91168098e-01 -5.26287977e-02 -9.07861848e-01 -1.96856479e-02]\n",
      " [ 8.37571800e-02  7.84228321e-01 -4.82390881e-01 -2.02435761e+00]\n",
      " [ 1.56556882e+00 -1.83462011e+00  1.40052326e+00 -1.09681845e+00]\n",
      " [-3.38765113e-01  1.32322074e+00 -1.99285828e+00  5.84760973e-01]\n",
      " [ 1.25598231e-01 -7.07710374e-01 -3.28714206e-01 -2.22077835e-01]\n",
      " [-2.46064887e+00  2.99408483e-01 -7.51189426e-02 -7.37543159e-01]\n",
      " [ 5.47656265e-01  6.02249994e-01 -2.99558699e-01 -1.43913486e+00]\n",
      " [-6.25295523e-02  1.28267926e+00 -8.52074609e-01 -6.61588896e-01]\n",
      " [-9.98732550e-01 -3.59645952e-01  4.48686034e-01 -1.14860783e+00]\n",
      " [ 1.30858690e+00  6.06450743e-01  6.25736485e-04  1.31494069e+00]\n",
      " [-5.50473161e-01  9.78590670e-02 -3.84574762e-01 -1.44545432e+00]\n",
      " [-9.11806109e-01  8.24820213e-01 -1.04363109e+00  1.38338476e+00]\n",
      " [-3.36209018e-01 -2.76108736e-01 -1.21493447e-01 -2.76726580e-01]\n",
      " [-8.91182710e-01  8.22354004e-01  1.00062146e+00  9.70998457e-01]\n",
      " [ 7.85767465e-01 -2.82236034e-01  7.95795333e-01 -1.79110595e+00]\n",
      " [ 1.87103136e+00 -2.33444198e-01  1.13899224e-01  6.11126435e-02]\n",
      " [ 6.50559710e-01  7.24728275e-01  7.13392896e-01  2.06252799e-01]\n",
      " [ 9.06638775e-01  6.32456981e-01 -2.55761085e+00 -4.54288252e-01]\n",
      " [-2.31495133e+00  7.73367876e-01  6.79966266e-01  1.87363971e-01]\n",
      " [-1.76990869e-01 -8.42680724e-01 -1.17921017e+00 -1.47809513e+00]\n",
      " [ 2.49066479e-01  4.79010184e-01 -3.50221083e-01  1.58361779e+00]\n",
      " [-5.13896101e-01  2.54681570e+00  2.84042436e+00 -1.18875669e+00]\n",
      " [ 6.44299478e-01  8.36790145e-01  1.88845818e-01 -3.34857711e-01]\n",
      " [ 9.90697736e-01 -3.89094542e-01  4.87743096e-02 -1.11673798e+00]\n",
      " [-2.22626084e+00 -3.69173126e-01  8.90252953e-01  8.25192030e-02]\n",
      " [ 1.43322285e+00 -2.36912334e-02 -8.28159322e-01 -1.02282684e+00]\n",
      " [ 5.24179547e-02 -1.39076984e+00  6.45413695e-01 -4.12098161e-01]\n",
      " [-8.39753569e-01 -1.00046273e+00  2.27719929e-01  7.19068805e-01]\n",
      " [-1.29007291e+00  1.91515113e-01 -1.56311025e+00  5.54682413e-01]]\n"
     ]
    }
   ],
   "source": [
    "with NWBHDF5IO(\"ecephys_tutorial.nwb\", \"r\") as io:\n",
    "    read_nwbfile = io.read()\n",
    "    print(read_nwbfile.processing[\"ecephys\"][\"LFP\"][\"ElectricalSeries\"].data[:])"
   ]
  },
  {
   "cell_type": "markdown",
   "metadata": {},
   "source": [
    "### Accessing data regions\n",
    "\n",
    "It is often preferable to read only a portion of the data. To do this, index\n",
    "or slice into the ``data`` attribute just like if you were indexing or slicing a\n",
    ":py:class:`~numpy` array.\n",
    "\n",
    "The following code prints elements ``0:10`` in the first dimension (time)\n",
    "and ``0:3`` in the second dimension (electrodes) from the LFP data we have written.\n",
    "\n"
   ]
  },
  {
   "cell_type": "code",
   "execution_count": 19,
   "metadata": {
    "collapsed": false,
    "jupyter": {
     "outputs_hidden": false
    }
   },
   "outputs": [
    {
     "name": "stdout",
     "output_type": "stream",
     "text": [
      "section of LFP:\n",
      "[[-0.58591292 -1.40842228  0.04735216]\n",
      " [ 0.19045712 -1.57214794  0.0678778 ]\n",
      " [ 0.63979131  1.10515259  0.53828476]\n",
      " [-1.50067221 -0.03945648 -0.98411932]\n",
      " [-0.60431007 -0.76771635  0.80379005]\n",
      " [ 1.19652273 -2.14108304 -0.65911506]\n",
      " [-0.36428182  0.77808198  0.10866414]\n",
      " [-0.6982591  -0.10963512 -0.28707593]\n",
      " [ 1.48735236  0.8797651   0.0761943 ]\n",
      " [-0.26357214  0.1104493  -1.72272964]]\n",
      "\n",
      "spike times from 0th unit:\n",
      "[0.01376 0.05809 0.15316 0.23711 0.2502  0.25597 0.25735 0.27604 0.29341\n",
      " 0.30852 0.34817 0.42168 0.50131 0.50981 0.53408 0.60386 0.64618 0.69986]\n"
     ]
    }
   ],
   "source": [
    "with NWBHDF5IO(\"ecephys_tutorial.nwb\", \"r\") as io:\n",
    "    read_nwbfile = io.read()\n",
    "\n",
    "    print(\"section of LFP:\")\n",
    "    print(read_nwbfile.processing[\"ecephys\"][\"LFP\"][\"ElectricalSeries\"].data[:10, :3])\n",
    "    print(\"\")\n",
    "    print(\"spike times from 0th unit:\")\n",
    "    print(read_nwbfile.units[\"spike_times\"][0])"
   ]
  },
  {
   "cell_type": "code",
   "execution_count": null,
   "metadata": {},
   "outputs": [],
   "source": []
  }
 ],
 "metadata": {
  "kernelspec": {
   "display_name": "neuro1",
   "language": "python",
   "name": "neuro1"
  },
  "language_info": {
   "codemirror_mode": {
    "name": "ipython",
    "version": 3
   },
   "file_extension": ".py",
   "mimetype": "text/x-python",
   "name": "python",
   "nbconvert_exporter": "python",
   "pygments_lexer": "ipython3",
   "version": "3.10.4"
  }
 },
 "nbformat": 4,
 "nbformat_minor": 4
}
